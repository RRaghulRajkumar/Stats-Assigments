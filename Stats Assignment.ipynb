{
 "cells": [
  {
   "cell_type": "markdown",
   "id": "1338bfa8",
   "metadata": {},
   "source": [
    "# Questions:"
   ]
  },
  {
   "cell_type": "markdown",
   "id": "53916cf0",
   "metadata": {},
   "source": [
    "Q1. What are the three measures of central tendency?\n",
    "\n",
    "Q2. What is the difference between the mean, median, and mode? How are they used to measure the\n",
    "central tendency of a dataset?\n",
    "\n",
    "Q3. Measure the three measures of central tendency for the given height data:\n",
    "\n",
    " [178,177,176,177,178.2,178,175,179,180,175,178.9,176.2,177,172.5,178,176.5]\n",
    "\n",
    "Q4. Find the standard deviation for the given data:\n",
    "\n",
    "[178,177,176,177,178.2,178,175,179,180,175,178.9,176.2,177,172.5,178,176.5]\n",
    "\n",
    "Q5. How are measures of dispersion such as range, variance, and standard deviation used to describe\n",
    "the spread of a dataset? Provide an example.\n",
    "\n",
    "Q6. What is a Venn diagram?\n",
    "\n",
    "Q7. For the two given sets A = (2,3,4,5,6,7) & B = (0,2,6,8,10). Find:\n",
    "\n",
    "(i) \tA B\n",
    "\n",
    "(ii)\tA ⋃ B\n",
    "\n",
    "Q8. What do you understand about skewness in data?\n",
    "\n",
    "Q9. If a data is right skewed then what will be the position of median with respect to mean?\n",
    "\n",
    "Q10. Explain the difference between covariance and correlation. How are these measures used in\n",
    "statistical analysis?\n",
    "\n",
    "Q11. What is the formula for calculating the sample mean? Provide an example calculation for a\n",
    "dataset.\n",
    "\n",
    "Q12. For a normal distribution data what is the relationship between its measure of central tendency?\n",
    "\n",
    "Q13. How is covariance different from correlation?\n",
    "\n",
    "Q14. How do outliers affect measures of central tendency and dispersion? Provide an example."
   ]
  },
  {
   "cell_type": "markdown",
   "id": "aed0f750",
   "metadata": {},
   "source": [
    "# Answers:\n",
    "\n",
    "\n",
    "Q1. The three measures of central tendency are the mean, median, and mode.\n",
    "\n",
    "Q2. The mean is the average of all values in a dataset, the median is the middle value when the dataset is arranged in order, and the mode is the value that appears most frequently. They are used to provide a central or typical value for a dataset.\n",
    "\n",
    "Q3. For the given height data: [178,177,176,177,178.2,178,175,179,180,175,178.9,176.2,177,172.5,178,176.5]\n",
    "   - Mean = 177.5\n",
    "   - Median = 177.5\n",
    "   - Mode = 178\n",
    "\n",
    "Q4. The standard deviation for the given data: [178,177,176,177,178.2,178,175,179,180,175,178.9,176.2,177,172.5,178,176.5] is approximately 2.29.\n",
    "\n",
    "Q5. Measures of dispersion describe the spread of a dataset. Range indicates the difference between the maximum and minimum values. Variance and standard deviation provide insight into the average deviation of data points from the mean. For example, a small standard deviation implies that most data points are close to the mean, while a larger standard deviation suggests greater variability.\n",
    "\n",
    "Q6. A Venn diagram is a graphical representation used to show the relationships between sets. It consists of overlapping circles, where each circle represents a set, and the overlapping regions represent the intersections between sets.\n",
    "\n",
    "Q7. For sets A = (2,3,4,5,6,7) & B = (0,2,6,8,10):\n",
    "   (i) A ∩ B = (2,6)\n",
    "   (ii) A ⋃ B = (0,2,3,4,5,6,7,8,10)\n",
    "\n",
    "Q8. Skewness in data refers to the asymmetry in the distribution of data points. If a distribution is right-skewed, the tail is longer on the right side. It indicates that there are relatively few large values that pull the mean in that direction.\n",
    "\n",
    "Q9. In a right-skewed distribution, the median will be less than the mean.\n",
    "\n",
    "Q10. Covariance measures the degree to which two variables change together, while correlation measures both the strength and direction of the linear relationship between two variables. Correlation is a standardized measure, ranging between -1 and 1, making it easier to interpret.\n",
    "\n",
    "Q11. Formula for calculating the sample mean (x̄) is:\n",
    "   x̄ = (x₁ + x₂ + ... + xn) / n\n",
    "   Example: For data [10, 15, 20, 25], the mean = (10 + 15 + 20 + 25) / 4 = 17.5\n",
    "\n",
    "Q12. In a normal distribution, the mean, median, and mode are all equal and located at the center of the distribution.\n",
    "\n",
    "Q13. Covariance is a measure of the degree to which two variables change together, while correlation also indicates the strength and direction of their linear relationship. Correlation is scaled to a range between -1 and 1, making it more interpretable than covariance.\n",
    "\n",
    "Q14. Outliers can heavily influence the mean, causing it to shift away from the center of the data. They can also increase measures of dispersion such as variance and standard deviation. For example, in a dataset [5, 10, 15, 20, 100], the presence of the outlier 100 significantly affects the mean and standard deviation."
   ]
  },
  {
   "cell_type": "code",
   "execution_count": null,
   "id": "0cfa5487",
   "metadata": {},
   "outputs": [],
   "source": []
  }
 ],
 "metadata": {
  "kernelspec": {
   "display_name": "Python 3 (ipykernel)",
   "language": "python",
   "name": "python3"
  },
  "language_info": {
   "codemirror_mode": {
    "name": "ipython",
    "version": 3
   },
   "file_extension": ".py",
   "mimetype": "text/x-python",
   "name": "python",
   "nbconvert_exporter": "python",
   "pygments_lexer": "ipython3",
   "version": "3.9.13"
  }
 },
 "nbformat": 4,
 "nbformat_minor": 5
}
